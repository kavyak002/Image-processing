{
 "cells": [
  {
   "cell_type": "code",
   "execution_count": 1,
   "id": "05c0872b",
   "metadata": {},
   "outputs": [],
   "source": [
    "#Import required Image library\n",
    "from PIL import Image\n",
    "\n",
    "#Create an Image Object from an Image\n",
    "im = Image.open(\"panda.jpg\")\n",
    "\n",
    "#Display actual image\n",
    "im.show()\n",
    "\n",
    "#Make the new image half the width and half the height of the original image\n",
    "resized_im = im.resize((round(im.size[0]*0.5), round(im.size[1]*0.5)))\n",
    "\n",
    "#Display the resized imaged\n",
    "resized_im.show()"
   ]
  },
  {
   "cell_type": "code",
   "execution_count": 3,
   "id": "93f86fd0",
   "metadata": {},
   "outputs": [
    {
     "name": "stdout",
     "output_type": "stream",
     "text": [
      "size of old image (1020, 510)\n",
      "newsize of image (300, 300)\n"
     ]
    }
   ],
   "source": [
    "#OR\n",
    "\n",
    "import cv2\n",
    "from PIL import Image \n",
    "\n",
    "image=Image.open('panda.jpg')\n",
    "image.show()\n",
    "print(\"size of old image\",image.size)\n",
    "\n",
    "\n",
    "newsize=(300,300)\n",
    "image1=image.resize(newsize)\n",
    "image1.show()\n",
    "print(\"newsize of image\",image1.size)"
   ]
  },
  {
   "cell_type": "code",
   "execution_count": null,
   "id": "668571b4",
   "metadata": {},
   "outputs": [],
   "source": []
  }
 ],
 "metadata": {
  "kernelspec": {
   "display_name": "Python 3 (ipykernel)",
   "language": "python",
   "name": "python3"
  },
  "language_info": {
   "codemirror_mode": {
    "name": "ipython",
    "version": 3
   },
   "file_extension": ".py",
   "mimetype": "text/x-python",
   "name": "python",
   "nbconvert_exporter": "python",
   "pygments_lexer": "ipython3",
   "version": "3.9.7"
  }
 },
 "nbformat": 4,
 "nbformat_minor": 5
}
