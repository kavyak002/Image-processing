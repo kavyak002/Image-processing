{
 "cells": [
  {
   "cell_type": "code",
   "execution_count": 2,
   "id": "e3926dd4",
   "metadata": {},
   "outputs": [],
   "source": [
    "#blending of two image\n",
    "#import required packages\n",
    "import cv2\n",
    "#download the images of same resolution(like 300x300)\n",
    "#Read image 1\n",
    "img1 = cv2.imread('im1.jpg')\n",
    "cv2.imshow(\"image1\",img1)\n",
    "cv2.waitKey(0)\n",
    "#Read image 2\n",
    "img2 = cv2.imread('im2.jpg')\n",
    "cv2.imshow(\"image2\",img2)\n",
    "cv2.waitKey(0)\n",
    "#Define alpha and beta\n",
    "alpha = 0.60\n",
    "beta = 0.50\n",
    "#Blend images\n",
    "final_image = cv2.addWeighted(img1, alpha, img2, beta, 0.0)\n",
    "\n",
    "cv2.imshow(\"image aftre blending\",final_image)\n",
    "cv2.waitKey(0)\n",
    "cv2.destroyAllWindows()"
   ]
  },
  {
   "cell_type": "code",
   "execution_count": null,
   "id": "a4e59e44",
   "metadata": {},
   "outputs": [],
   "source": []
  }
 ],
 "metadata": {
  "kernelspec": {
   "display_name": "Python 3 (ipykernel)",
   "language": "python",
   "name": "python3"
  },
  "language_info": {
   "codemirror_mode": {
    "name": "ipython",
    "version": 3
   },
   "file_extension": ".py",
   "mimetype": "text/x-python",
   "name": "python",
   "nbconvert_exporter": "python",
   "pygments_lexer": "ipython3",
   "version": "3.9.7"
  }
 },
 "nbformat": 4,
 "nbformat_minor": 5
}
