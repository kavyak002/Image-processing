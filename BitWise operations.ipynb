{
 "cells": [
  {
   "cell_type": "code",
   "execution_count": 1,
   "id": "377f2ea8",
   "metadata": {},
   "outputs": [],
   "source": [
    "import cv2\n",
    "img1=cv2.imread(\"im1.jpg\")\n",
    "img2=cv2.imread(\"im2.jpg\")\n",
    "bitwise_AND=cv2.bitwise_and(img1,img2)\n",
    "bitwise_OR=cv2.bitwise_or(img1,img2)\n",
    "bitwise_NOT=cv2.bitwise_not(img1)\n",
    "cv2.imshow('AND',bitwise_AND)\n",
    "cv2.imshow('OR',bitwise_OR)\n",
    "cv2.imshow('NOT',bitwise_NOT)\n",
    "cv2.waitKey(0)\n",
    "cv2.destroyAllWindows()"
   ]
  },
  {
   "cell_type": "code",
   "execution_count": null,
   "id": "8f7ca904",
   "metadata": {},
   "outputs": [],
   "source": []
  }
 ],
 "metadata": {
  "kernelspec": {
   "display_name": "Python 3 (ipykernel)",
   "language": "python",
   "name": "python3"
  },
  "language_info": {
   "codemirror_mode": {
    "name": "ipython",
    "version": 3
   },
   "file_extension": ".py",
   "mimetype": "text/x-python",
   "name": "python",
   "nbconvert_exporter": "python",
   "pygments_lexer": "ipython3",
   "version": "3.9.7"
  }
 },
 "nbformat": 4,
 "nbformat_minor": 5
}
