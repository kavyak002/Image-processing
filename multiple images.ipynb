{
 "cells": [
  {
   "cell_type": "code",
   "execution_count": 2,
   "id": "fd388f4a",
   "metadata": {},
   "outputs": [],
   "source": [
    "import cv2\n",
    "import glob\n",
    "\n",
    "path=(\"C:/Users/User/Image Processing23/images/*.*\")\n",
    "for file in glob.glob(path):\n",
    "    image_read=cv2.imread(file)\n",
    "    c=cv2.cvtColor(image_read,cv2.COLOR_BGR2RGB)\n",
    "    cv2.imshow('Color image',c)\n",
    "    k=cv2.waitKey(1000)\n",
    "    cv2.destroyAllWindows()"
   ]
  },
  {
   "cell_type": "code",
   "execution_count": null,
   "id": "1771dc35",
   "metadata": {},
   "outputs": [],
   "source": []
  }
 ],
 "metadata": {
  "kernelspec": {
   "display_name": "Python 3 (ipykernel)",
   "language": "python",
   "name": "python3"
  },
  "language_info": {
   "codemirror_mode": {
    "name": "ipython",
    "version": 3
   },
   "file_extension": ".py",
   "mimetype": "text/x-python",
   "name": "python",
   "nbconvert_exporter": "python",
   "pygments_lexer": "ipython3",
   "version": "3.9.7"
  }
 },
 "nbformat": 4,
 "nbformat_minor": 5
}
