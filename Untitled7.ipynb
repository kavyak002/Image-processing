{
 "cells": [
  {
   "cell_type": "code",
   "execution_count": 5,
   "id": "13130260",
   "metadata": {},
   "outputs": [
    {
     "data": {
      "text/plain": [
       "-1"
      ]
     },
     "execution_count": 5,
     "metadata": {},
     "output_type": "execute_result"
    }
   ],
   "source": [
    "import cv2\n",
    "import numpy as np\n",
    "img1=cv2.imread(\"im1.jpg\")\n",
    "img2=cv2.imread(\"im2.jpg\")\n",
    "add=img1+img2\n",
    "cv2.imshow(\"add\",add)\n",
    "cv2.waitKey(0)"
   ]
  },
  {
   "cell_type": "code",
   "execution_count": 14,
   "id": "673eda0e",
   "metadata": {},
   "outputs": [
    {
     "data": {
      "text/plain": [
       "-1"
      ]
     },
     "execution_count": 14,
     "metadata": {},
     "output_type": "execute_result"
    }
   ],
   "source": [
    "import cv2\n",
    "import numpy as np\n",
    "img1=cv2.imread(\"im3.jpg\")\n",
    "img2=cv2.imread(\"im4.jpg\")\n",
    "mul=img1*img2\n",
    "cv2.imshow(\"mul\",mul)\n",
    "cv2.waitKey(0)"
   ]
  },
  {
   "cell_type": "code",
   "execution_count": 15,
   "id": "da749f36",
   "metadata": {},
   "outputs": [
    {
     "data": {
      "text/plain": [
       "-1"
      ]
     },
     "execution_count": 15,
     "metadata": {},
     "output_type": "execute_result"
    }
   ],
   "source": [
    "import cv2\n",
    "import numpy as np\n",
    "img1=cv2.imread(\"im3.jpg\")\n",
    "img2=cv2.imread(\"im4.jpg\")\n",
    "sub=img1-img2\n",
    "cv2.imshow(\"sub\",sub)\n",
    "cv2.waitKey(0)"
   ]
  },
  {
   "cell_type": "code",
   "execution_count": null,
   "id": "cc79da9b",
   "metadata": {},
   "outputs": [],
   "source": [
    "import cv2\n",
    "from matplotlib import pyplot as plt\n",
    "image=cv2.imread('f1.jpg')\n",
    "cv2.imshow(\"image before pyrUp:\",image)\n",
    "\n",
    "image1=cv2.pyrUp(image)\n",
    "cv2.imshow(\"UpSample\",image1)\n",
    "plt.imshow(image1)\n",
    "cv2.waitKey(0)\n",
    "cv2.destroyAllWindows()"
   ]
  },
  {
   "cell_type": "code",
   "execution_count": null,
   "id": "bb87ac65",
   "metadata": {},
   "outputs": [],
   "source": [
    "import cv2\n",
    "from matplotlib import pyplot as plt\n",
    "image=cv2.imread('f1.jpg')\n",
    "cv2.imshow(\"image before pyrDown:\",image)\n",
    "\n",
    "image1=cv2.pyrDown(image)\n",
    "cv2.imshow(\"DownSample\",image1)\n",
    "plt.imshow(image1)\n",
    "cv2.waitKey(0)\n",
    "cv2.destroyAllWindows()"
   ]
  },
  {
   "cell_type": "code",
   "execution_count": null,
   "id": "a68f97ff",
   "metadata": {},
   "outputs": [],
   "source": []
  }
 ],
 "metadata": {
  "kernelspec": {
   "display_name": "Python 3 (ipykernel)",
   "language": "python",
   "name": "python3"
  },
  "language_info": {
   "codemirror_mode": {
    "name": "ipython",
    "version": 3
   },
   "file_extension": ".py",
   "mimetype": "text/x-python",
   "name": "python",
   "nbconvert_exporter": "python",
   "pygments_lexer": "ipython3",
   "version": "3.9.7"
  }
 },
 "nbformat": 4,
 "nbformat_minor": 5
}
