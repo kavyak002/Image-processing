{
 "cells": [
  {
   "cell_type": "code",
   "execution_count": 1,
   "id": "883931a1",
   "metadata": {},
   "outputs": [],
   "source": [
    "import cv2\n",
    "image=cv2.imread(\"panda.jpg\")\n",
    "cv2.imshow('original',image)\n",
    "cv2.waitKey(0)\n",
    "\n",
    "#flip horizontally\n",
    "flip_image1=cv2.flip(image,1)\n",
    "cv2.imshow('flip_image1',flip_image1)\n",
    "cv2.waitKey(0)\n",
    "\n",
    "#flip vertically\n",
    "flip_image2=cv2.flip(image,0)\n",
    "cv2.imshow('flip_image2',flip_image2)\n",
    "cv2.waitKey(0)\n",
    "\n",
    "#flip horizontally and vertically\n",
    "flip_image3=cv2.flip(image,-1)\n",
    "cv2.imshow('flip_image3',flip_image3)\n",
    "cv2.waitKey(0)\n",
    "cv2.destroyAllWindows()"
   ]
  },
  {
   "cell_type": "code",
   "execution_count": null,
   "id": "00ced0ae",
   "metadata": {},
   "outputs": [],
   "source": []
  }
 ],
 "metadata": {
  "kernelspec": {
   "display_name": "Python 3 (ipykernel)",
   "language": "python",
   "name": "python3"
  },
  "language_info": {
   "codemirror_mode": {
    "name": "ipython",
    "version": 3
   },
   "file_extension": ".py",
   "mimetype": "text/x-python",
   "name": "python",
   "nbconvert_exporter": "python",
   "pygments_lexer": "ipython3",
   "version": "3.9.7"
  }
 },
 "nbformat": 4,
 "nbformat_minor": 5
}
