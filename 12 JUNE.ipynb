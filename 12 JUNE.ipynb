{
 "cells": [
  {
   "cell_type": "code",
   "execution_count": 4,
   "id": "e78b526b",
   "metadata": {},
   "outputs": [],
   "source": [
    "#Sharpening\n",
    "import cv2\n",
    "import numpy as np\n",
    "image=cv2.imread('car image.jpg')\n",
    "kernel=np.array([[-1,-1,-1],[-1,9,-1],[-1,-1,-1]])\n",
    "sharpened=cv2.filter2D(image,-1,kernel)\n",
    "cv2.imshow(\"Original image\",image)\n",
    "cv2.imshow('sharpened.jpg',sharpened)\n",
    "cv2.waitKey(0)\n",
    "cv2.destroyAllWindows()"
   ]
  },
  {
   "cell_type": "code",
   "execution_count": 5,
   "id": "f6187e1b",
   "metadata": {},
   "outputs": [],
   "source": [
    "#Vertical flip\n",
    "import cv2\n",
    "img=cv2.imread('DOLL.jpg')\n",
    "img_v=cv2.flip(img,0)\n",
    "cv2.imshow(\"Original image\",img)\n",
    "cv2.imshow(\"Vertical flip\",img_v)\n",
    "cv2.waitKey(0)\n",
    "cv2.destroyAllWindows()"
   ]
  },
  {
   "cell_type": "code",
   "execution_count": 6,
   "id": "b56907a7",
   "metadata": {},
   "outputs": [],
   "source": [
    "#Horizontal flip\n",
    "import cv2\n",
    "img=cv2.imread('DOLL.jpg')\n",
    "img_h=cv2.flip(img,1)\n",
    "cv2.imshow(\"Original image\",img)\n",
    "cv2.imshow(\"Horizontal flip\",img_h)\n",
    "cv2.waitKey(0)\n",
    "cv2.destroyAllWindows()"
   ]
  },
  {
   "cell_type": "code",
   "execution_count": 7,
   "id": "d7ee7107",
   "metadata": {},
   "outputs": [],
   "source": [
    "import cv2\n",
    "img=cv2.imread('DOLL.jpg')\n",
    "img_h=cv2.flip(img,1)\n",
    "img_v=cv2.flip(img,0)\n",
    "img_f=cv2.flip(img,-1)\n",
    "cv2.imshow(\"Original image\",img)\n",
    "cv2.imshow(\"Horizontal flip\",img_h)\n",
    "cv2.imshow(\"Vertical flip\",img_v)\n",
    "cv2.imshow(\"Flipped image\",img_f)\n",
    "cv2.waitKey(0)\n",
    "cv2.destroyAllWindows()"
   ]
  },
  {
   "cell_type": "code",
   "execution_count": null,
   "id": "1edb6bff",
   "metadata": {},
   "outputs": [],
   "source": []
  }
 ],
 "metadata": {
  "kernelspec": {
   "display_name": "Python 3 (ipykernel)",
   "language": "python",
   "name": "python3"
  },
  "language_info": {
   "codemirror_mode": {
    "name": "ipython",
    "version": 3
   },
   "file_extension": ".py",
   "mimetype": "text/x-python",
   "name": "python",
   "nbconvert_exporter": "python",
   "pygments_lexer": "ipython3",
   "version": "3.9.7"
  }
 },
 "nbformat": 4,
 "nbformat_minor": 5
}
