{
 "cells": [
  {
   "cell_type": "code",
   "execution_count": 1,
   "id": "2d5b6bd8",
   "metadata": {},
   "outputs": [],
   "source": [
    "#image transfoations\n",
    "import numpy as np\n",
    "import cv2 as cv\n",
    "img = cv.imread('bird.jpg', 0)\n",
    "rows, cols = img.shape\n",
    "M = np.float32([[1, 0, 100], [0, 1, 50]])\n",
    "dst = cv.warpAffine(img, M, (cols, rows))\n",
    "cv.imshow('img', dst)\n",
    "cv.waitKey(0)\n",
    "cv.destroyAllWindows()"
   ]
  },
  {
   "cell_type": "code",
   "execution_count": 2,
   "id": "afa4dd7f",
   "metadata": {},
   "outputs": [],
   "source": [
    "#Image Reflection\n",
    "#horizontally\n",
    "import numpy as np\n",
    "import cv2 as cv\n",
    "img = cv.imread('bird.jpg', 0)\n",
    "rows, cols = img.shape\n",
    "M = np.float32([[1,  0, 0],\n",
    "                [0, -1, rows],\n",
    "                [0,  0, 1]])\n",
    "reflected_img = cv.warpPerspective(img, M,\n",
    "                                   (int(cols),\n",
    "                                    int(rows)))\n",
    "cv.imshow('img', reflected_img)\n",
    "cv.imwrite('reflection_out.jpg', reflected_img)\n",
    "cv.waitKey(0)\n",
    "cv.destroyAllWindows()"
   ]
  },
  {
   "cell_type": "code",
   "execution_count": 3,
   "id": "6114c147",
   "metadata": {},
   "outputs": [],
   "source": [
    "#vertically\n",
    "import numpy as np\n",
    "import cv2 as cv\n",
    "img = cv.imread('bird.jpg', 0)\n",
    "rows, cols = img.shape\n",
    "M = np.float32([[-1, 0, cols],\n",
    "                [0, 1, 0], \n",
    "                [0, 0, 1]])\n",
    "reflected_img = cv.warpPerspective(img, M,\n",
    "                                   (int(cols),\n",
    "                                    int(rows)))\n",
    "cv.imshow('img', reflected_img)\n",
    "cv.imwrite('reflection_out.jpg', reflected_img)\n",
    "cv.waitKey(0)\n",
    "cv.destroyAllWindows()"
   ]
  },
  {
   "cell_type": "code",
   "execution_count": 4,
   "id": "164a6157",
   "metadata": {},
   "outputs": [],
   "source": [
    "#image rotation\n",
    "import numpy as np\n",
    "import cv2 as cv\n",
    "img = cv.imread('bird.jpg', 0)\n",
    "rows, cols = img.shape\n",
    "M = np.float32([[1,  0, 0], [0, -1, rows], [0,  0, 1]])\n",
    "img_rotation = cv.warpAffine(img,\n",
    "                             cv.getRotationMatrix2D((cols/2, rows/2),\n",
    "                                                    30, 0.6),\n",
    "                             (cols, rows))\n",
    "cv.imshow('img', img_rotation)\n",
    "cv.imwrite('rotation_out.jpg', img_rotation)\n",
    "cv.waitKey(0)\n",
    "cv.destroyAllWindows()"
   ]
  },
  {
   "cell_type": "code",
   "execution_count": 19,
   "id": "fe6927c3",
   "metadata": {},
   "outputs": [],
   "source": [
    "#image scaling\n",
    "import numpy as np\n",
    "import cv2 as cv\n",
    "img = cv.imread('bird.jpg', 0)\n",
    "rows, cols = img.shape\n",
    "img_shrinked = cv.resize(img, (250, 200),\n",
    "                         interpolation=cv.INTER_AREA)\n",
    "cv.imshow('img', img_shrinked)\n",
    "img_enlarged = cv.resize(img_shrinked, None,\n",
    "                         fx=1.5, fy=1.5,\n",
    "                         interpolation=cv.INTER_CUBIC)\n",
    "cv.imshow('img', img_enlarged)\n",
    "cv.waitKey(0)\n",
    "cv.destroyAllWindows()"
   ]
  },
  {
   "cell_type": "code",
   "execution_count": 6,
   "id": "cefbb2a2",
   "metadata": {},
   "outputs": [],
   "source": [
    "#Image Shearing in X-Axis\n",
    "import numpy as np\n",
    "import cv2 as cv\n",
    "img = cv.imread('bird.jpg', 0)\n",
    "rows, cols = img.shape\n",
    "M = np.float32([[1, 0.5, 0], [0, 1, 0], [0, 0, 1]])\n",
    "sheared_img = cv.warpPerspective(img, M, (int(cols*1.5), int(rows*1.5)))\n",
    "cv.imshow('img', sheared_img)\n",
    "cv.waitKey(0)\n",
    "cv.destroyAllWindows()"
   ]
  },
  {
   "cell_type": "code",
   "execution_count": 7,
   "id": "0164922a",
   "metadata": {},
   "outputs": [],
   "source": [
    "#Image Shearing in Y-Axis\n",
    "import numpy as np\n",
    "import cv2 as cv\n",
    "img = cv.imread('bird.jpg', 0)\n",
    "rows, cols = img.shape\n",
    "M = np.float32([[1,   0, 0], [0.5, 1, 0], [0,   0, 1]])\n",
    "sheared_img = cv.warpPerspective(img, M, (int(cols*1.5), int(rows*1.5)))\n",
    "cv.imshow('sheared_y-axis_out.jpg', sheared_img)\n",
    "cv.waitKey(0)\n",
    "cv.destroyAllWindows()"
   ]
  },
  {
   "cell_type": "code",
   "execution_count": 18,
   "id": "5ebd7ea4",
   "metadata": {},
   "outputs": [],
   "source": [
    "#Image croping \n",
    "from PIL import Image\n",
    "im=Image.open('bird.jpg')\n",
    "w,h=im.size\n",
    "left=100\n",
    "top=h/4\n",
    "right=600\n",
    "bottom=3*h/4\n",
    "im1=im.crop((left,top,right,bottom))\n",
    "im1.show()"
   ]
  },
  {
   "cell_type": "code",
   "execution_count": null,
   "id": "8b95c4e9",
   "metadata": {},
   "outputs": [],
   "source": []
  }
 ],
 "metadata": {
  "kernelspec": {
   "display_name": "Python 3 (ipykernel)",
   "language": "python",
   "name": "python3"
  },
  "language_info": {
   "codemirror_mode": {
    "name": "ipython",
    "version": 3
   },
   "file_extension": ".py",
   "mimetype": "text/x-python",
   "name": "python",
   "nbconvert_exporter": "python",
   "pygments_lexer": "ipython3",
   "version": "3.9.7"
  }
 },
 "nbformat": 4,
 "nbformat_minor": 5
}
