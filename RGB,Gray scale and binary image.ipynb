{
 "cells": [
  {
   "cell_type": "code",
   "execution_count": 3,
   "id": "ea9201c6",
   "metadata": {},
   "outputs": [],
   "source": [
    "# Importing OpenCV\n",
    "import cv2\n",
    "# Reading the image in grayscale mode by setting the flag as 0\n",
    "img = cv2.imread('panda.jpg')\n",
    "#displaying the original image\n",
    "cv2.imshow('original', img)\n",
    "cv2.waitKey(0)\n",
    "\n",
    "# Use the cvtColor() function to grayscale the image\n",
    "rgb_img=cv2.cvtColor(img,cv2.COLOR_BGR2RGB)\n",
    "cv2.imshow('rgbimage',rgb_img)\n",
    "cv2.waitKey(0)\n",
    " \n",
    "# Use the cvtColor() function to grayscale the image\n",
    "gray_img=cv2.cvtColor(img,cv2.COLOR_BGR2GRAY)\n",
    "cv2.imshow('grayimage',gray_img)\n",
    "cv2.waitKey(0)\n",
    "\n",
    "# converting to its binary form\n",
    "ret,bw_img = cv2.threshold(gray_img,127, 255, cv2.THRESH_BINARY)\n",
    "  \n",
    "cv2.imshow(\"Binary\", bw_img)\n",
    "cv2.waitKey(0)\n",
    "cv2.destroyAllWindows()"
   ]
  },
  {
   "cell_type": "code",
   "execution_count": null,
   "id": "88ef0dd8",
   "metadata": {},
   "outputs": [],
   "source": []
  }
 ],
 "metadata": {
  "kernelspec": {
   "display_name": "Python 3 (ipykernel)",
   "language": "python",
   "name": "python3"
  },
  "language_info": {
   "codemirror_mode": {
    "name": "ipython",
    "version": 3
   },
   "file_extension": ".py",
   "mimetype": "text/x-python",
   "name": "python",
   "nbconvert_exporter": "python",
   "pygments_lexer": "ipython3",
   "version": "3.9.7"
  }
 },
 "nbformat": 4,
 "nbformat_minor": 5
}
